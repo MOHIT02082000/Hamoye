{
  "nbformat": 4,
  "nbformat_minor": 0,
  "metadata": {
    "colab": {
      "name": "Hamoye_StageC_Machine_Learning:_Classification.ipynb",
      "provenance": []
    },
    "kernelspec": {
      "name": "python3",
      "display_name": "Python 3"
    },
    "language_info": {
      "name": "python"
    }
  },
  "cells": [
    {
      "cell_type": "code",
      "metadata": {
        "id": "1N1KC5qSSUAf"
      },
      "source": [
        "import pandas as pd\n",
        "import numpy as np\n",
        "import matplotlib.pyplot as plt\n",
        "import seaborn as sns\n",
        "%matplotlib inline"
      ],
      "execution_count": 23,
      "outputs": []
    },
    {
      "cell_type": "code",
      "metadata": {
        "id": "PyBSjn3yeWOn"
      },
      "source": [
        "df = pd.read_csv(\"/content/Data_for_UCI_named.csv\")"
      ],
      "execution_count": 24,
      "outputs": []
    },
    {
      "cell_type": "code",
      "metadata": {
        "colab": {
          "base_uri": "https://localhost:8080/",
          "height": 206
        },
        "id": "_pXvsAT0egbq",
        "outputId": "cef30c6d-b8c0-477a-b007-52496eeba315"
      },
      "source": [
        "df.head()"
      ],
      "execution_count": 25,
      "outputs": [
        {
          "output_type": "execute_result",
          "data": {
            "text/html": [
              "<div>\n",
              "<style scoped>\n",
              "    .dataframe tbody tr th:only-of-type {\n",
              "        vertical-align: middle;\n",
              "    }\n",
              "\n",
              "    .dataframe tbody tr th {\n",
              "        vertical-align: top;\n",
              "    }\n",
              "\n",
              "    .dataframe thead th {\n",
              "        text-align: right;\n",
              "    }\n",
              "</style>\n",
              "<table border=\"1\" class=\"dataframe\">\n",
              "  <thead>\n",
              "    <tr style=\"text-align: right;\">\n",
              "      <th></th>\n",
              "      <th>tau1</th>\n",
              "      <th>tau2</th>\n",
              "      <th>tau3</th>\n",
              "      <th>tau4</th>\n",
              "      <th>p1</th>\n",
              "      <th>p2</th>\n",
              "      <th>p3</th>\n",
              "      <th>p4</th>\n",
              "      <th>g1</th>\n",
              "      <th>g2</th>\n",
              "      <th>g3</th>\n",
              "      <th>g4</th>\n",
              "      <th>stab</th>\n",
              "      <th>stabf</th>\n",
              "    </tr>\n",
              "  </thead>\n",
              "  <tbody>\n",
              "    <tr>\n",
              "      <th>0</th>\n",
              "      <td>2.959060</td>\n",
              "      <td>3.079885</td>\n",
              "      <td>8.381025</td>\n",
              "      <td>9.780754</td>\n",
              "      <td>3.763085</td>\n",
              "      <td>-0.782604</td>\n",
              "      <td>-1.257395</td>\n",
              "      <td>-1.723086</td>\n",
              "      <td>0.650456</td>\n",
              "      <td>0.859578</td>\n",
              "      <td>0.887445</td>\n",
              "      <td>0.958034</td>\n",
              "      <td>0.055347</td>\n",
              "      <td>unstable</td>\n",
              "    </tr>\n",
              "    <tr>\n",
              "      <th>1</th>\n",
              "      <td>9.304097</td>\n",
              "      <td>4.902524</td>\n",
              "      <td>3.047541</td>\n",
              "      <td>1.369357</td>\n",
              "      <td>5.067812</td>\n",
              "      <td>-1.940058</td>\n",
              "      <td>-1.872742</td>\n",
              "      <td>-1.255012</td>\n",
              "      <td>0.413441</td>\n",
              "      <td>0.862414</td>\n",
              "      <td>0.562139</td>\n",
              "      <td>0.781760</td>\n",
              "      <td>-0.005957</td>\n",
              "      <td>stable</td>\n",
              "    </tr>\n",
              "    <tr>\n",
              "      <th>2</th>\n",
              "      <td>8.971707</td>\n",
              "      <td>8.848428</td>\n",
              "      <td>3.046479</td>\n",
              "      <td>1.214518</td>\n",
              "      <td>3.405158</td>\n",
              "      <td>-1.207456</td>\n",
              "      <td>-1.277210</td>\n",
              "      <td>-0.920492</td>\n",
              "      <td>0.163041</td>\n",
              "      <td>0.766689</td>\n",
              "      <td>0.839444</td>\n",
              "      <td>0.109853</td>\n",
              "      <td>0.003471</td>\n",
              "      <td>unstable</td>\n",
              "    </tr>\n",
              "    <tr>\n",
              "      <th>3</th>\n",
              "      <td>0.716415</td>\n",
              "      <td>7.669600</td>\n",
              "      <td>4.486641</td>\n",
              "      <td>2.340563</td>\n",
              "      <td>3.963791</td>\n",
              "      <td>-1.027473</td>\n",
              "      <td>-1.938944</td>\n",
              "      <td>-0.997374</td>\n",
              "      <td>0.446209</td>\n",
              "      <td>0.976744</td>\n",
              "      <td>0.929381</td>\n",
              "      <td>0.362718</td>\n",
              "      <td>0.028871</td>\n",
              "      <td>unstable</td>\n",
              "    </tr>\n",
              "    <tr>\n",
              "      <th>4</th>\n",
              "      <td>3.134112</td>\n",
              "      <td>7.608772</td>\n",
              "      <td>4.943759</td>\n",
              "      <td>9.857573</td>\n",
              "      <td>3.525811</td>\n",
              "      <td>-1.125531</td>\n",
              "      <td>-1.845975</td>\n",
              "      <td>-0.554305</td>\n",
              "      <td>0.797110</td>\n",
              "      <td>0.455450</td>\n",
              "      <td>0.656947</td>\n",
              "      <td>0.820923</td>\n",
              "      <td>0.049860</td>\n",
              "      <td>unstable</td>\n",
              "    </tr>\n",
              "  </tbody>\n",
              "</table>\n",
              "</div>"
            ],
            "text/plain": [
              "       tau1      tau2      tau3  ...        g4      stab     stabf\n",
              "0  2.959060  3.079885  8.381025  ...  0.958034  0.055347  unstable\n",
              "1  9.304097  4.902524  3.047541  ...  0.781760 -0.005957    stable\n",
              "2  8.971707  8.848428  3.046479  ...  0.109853  0.003471  unstable\n",
              "3  0.716415  7.669600  4.486641  ...  0.362718  0.028871  unstable\n",
              "4  3.134112  7.608772  4.943759  ...  0.820923  0.049860  unstable\n",
              "\n",
              "[5 rows x 14 columns]"
            ]
          },
          "metadata": {},
          "execution_count": 25
        }
      ]
    },
    {
      "cell_type": "code",
      "metadata": {
        "colab": {
          "base_uri": "https://localhost:8080/",
          "height": 206
        },
        "id": "z0vY__lyem36",
        "outputId": "ad6e312b-0193-4fb6-f2ff-f44834852939"
      },
      "source": [
        "df.tail()"
      ],
      "execution_count": 26,
      "outputs": [
        {
          "output_type": "execute_result",
          "data": {
            "text/html": [
              "<div>\n",
              "<style scoped>\n",
              "    .dataframe tbody tr th:only-of-type {\n",
              "        vertical-align: middle;\n",
              "    }\n",
              "\n",
              "    .dataframe tbody tr th {\n",
              "        vertical-align: top;\n",
              "    }\n",
              "\n",
              "    .dataframe thead th {\n",
              "        text-align: right;\n",
              "    }\n",
              "</style>\n",
              "<table border=\"1\" class=\"dataframe\">\n",
              "  <thead>\n",
              "    <tr style=\"text-align: right;\">\n",
              "      <th></th>\n",
              "      <th>tau1</th>\n",
              "      <th>tau2</th>\n",
              "      <th>tau3</th>\n",
              "      <th>tau4</th>\n",
              "      <th>p1</th>\n",
              "      <th>p2</th>\n",
              "      <th>p3</th>\n",
              "      <th>p4</th>\n",
              "      <th>g1</th>\n",
              "      <th>g2</th>\n",
              "      <th>g3</th>\n",
              "      <th>g4</th>\n",
              "      <th>stab</th>\n",
              "      <th>stabf</th>\n",
              "    </tr>\n",
              "  </thead>\n",
              "  <tbody>\n",
              "    <tr>\n",
              "      <th>9995</th>\n",
              "      <td>2.930406</td>\n",
              "      <td>9.487627</td>\n",
              "      <td>2.376523</td>\n",
              "      <td>6.187797</td>\n",
              "      <td>3.343416</td>\n",
              "      <td>-0.658054</td>\n",
              "      <td>-1.449106</td>\n",
              "      <td>-1.236256</td>\n",
              "      <td>0.601709</td>\n",
              "      <td>0.779642</td>\n",
              "      <td>0.813512</td>\n",
              "      <td>0.608385</td>\n",
              "      <td>0.023892</td>\n",
              "      <td>unstable</td>\n",
              "    </tr>\n",
              "    <tr>\n",
              "      <th>9996</th>\n",
              "      <td>3.392299</td>\n",
              "      <td>1.274827</td>\n",
              "      <td>2.954947</td>\n",
              "      <td>6.894759</td>\n",
              "      <td>4.349512</td>\n",
              "      <td>-1.663661</td>\n",
              "      <td>-0.952437</td>\n",
              "      <td>-1.733414</td>\n",
              "      <td>0.502079</td>\n",
              "      <td>0.567242</td>\n",
              "      <td>0.285880</td>\n",
              "      <td>0.366120</td>\n",
              "      <td>-0.025803</td>\n",
              "      <td>stable</td>\n",
              "    </tr>\n",
              "    <tr>\n",
              "      <th>9997</th>\n",
              "      <td>2.364034</td>\n",
              "      <td>2.842030</td>\n",
              "      <td>8.776391</td>\n",
              "      <td>1.008906</td>\n",
              "      <td>4.299976</td>\n",
              "      <td>-1.380719</td>\n",
              "      <td>-0.943884</td>\n",
              "      <td>-1.975373</td>\n",
              "      <td>0.487838</td>\n",
              "      <td>0.986505</td>\n",
              "      <td>0.149286</td>\n",
              "      <td>0.145984</td>\n",
              "      <td>-0.031810</td>\n",
              "      <td>stable</td>\n",
              "    </tr>\n",
              "    <tr>\n",
              "      <th>9998</th>\n",
              "      <td>9.631511</td>\n",
              "      <td>3.994398</td>\n",
              "      <td>2.757071</td>\n",
              "      <td>7.821347</td>\n",
              "      <td>2.514755</td>\n",
              "      <td>-0.966330</td>\n",
              "      <td>-0.649915</td>\n",
              "      <td>-0.898510</td>\n",
              "      <td>0.365246</td>\n",
              "      <td>0.587558</td>\n",
              "      <td>0.889118</td>\n",
              "      <td>0.818391</td>\n",
              "      <td>0.037789</td>\n",
              "      <td>unstable</td>\n",
              "    </tr>\n",
              "    <tr>\n",
              "      <th>9999</th>\n",
              "      <td>6.530527</td>\n",
              "      <td>6.781790</td>\n",
              "      <td>4.349695</td>\n",
              "      <td>8.673138</td>\n",
              "      <td>3.492807</td>\n",
              "      <td>-1.390285</td>\n",
              "      <td>-1.532193</td>\n",
              "      <td>-0.570329</td>\n",
              "      <td>0.073056</td>\n",
              "      <td>0.505441</td>\n",
              "      <td>0.378761</td>\n",
              "      <td>0.942631</td>\n",
              "      <td>0.045263</td>\n",
              "      <td>unstable</td>\n",
              "    </tr>\n",
              "  </tbody>\n",
              "</table>\n",
              "</div>"
            ],
            "text/plain": [
              "          tau1      tau2      tau3  ...        g4      stab     stabf\n",
              "9995  2.930406  9.487627  2.376523  ...  0.608385  0.023892  unstable\n",
              "9996  3.392299  1.274827  2.954947  ...  0.366120 -0.025803    stable\n",
              "9997  2.364034  2.842030  8.776391  ...  0.145984 -0.031810    stable\n",
              "9998  9.631511  3.994398  2.757071  ...  0.818391  0.037789  unstable\n",
              "9999  6.530527  6.781790  4.349695  ...  0.942631  0.045263  unstable\n",
              "\n",
              "[5 rows x 14 columns]"
            ]
          },
          "metadata": {},
          "execution_count": 26
        }
      ]
    },
    {
      "cell_type": "code",
      "metadata": {
        "colab": {
          "base_uri": "https://localhost:8080/"
        },
        "id": "BVMQOUnleojA",
        "outputId": "17dd3310-d1e5-4f3f-a854-460fbc172796"
      },
      "source": [
        "df.info()"
      ],
      "execution_count": 27,
      "outputs": [
        {
          "output_type": "stream",
          "name": "stdout",
          "text": [
            "<class 'pandas.core.frame.DataFrame'>\n",
            "RangeIndex: 10000 entries, 0 to 9999\n",
            "Data columns (total 14 columns):\n",
            " #   Column  Non-Null Count  Dtype  \n",
            "---  ------  --------------  -----  \n",
            " 0   tau1    10000 non-null  float64\n",
            " 1   tau2    10000 non-null  float64\n",
            " 2   tau3    10000 non-null  float64\n",
            " 3   tau4    10000 non-null  float64\n",
            " 4   p1      10000 non-null  float64\n",
            " 5   p2      10000 non-null  float64\n",
            " 6   p3      10000 non-null  float64\n",
            " 7   p4      10000 non-null  float64\n",
            " 8   g1      10000 non-null  float64\n",
            " 9   g2      10000 non-null  float64\n",
            " 10  g3      10000 non-null  float64\n",
            " 11  g4      10000 non-null  float64\n",
            " 12  stab    10000 non-null  float64\n",
            " 13  stabf   10000 non-null  object \n",
            "dtypes: float64(13), object(1)\n",
            "memory usage: 1.1+ MB\n"
          ]
        }
      ]
    },
    {
      "cell_type": "code",
      "metadata": {
        "colab": {
          "base_uri": "https://localhost:8080/",
          "height": 320
        },
        "id": "214UCrZ0eqHj",
        "outputId": "05bc2b0c-3420-4c73-e02c-7cc1efd16ff5"
      },
      "source": [
        "df.describe()"
      ],
      "execution_count": 28,
      "outputs": [
        {
          "output_type": "execute_result",
          "data": {
            "text/html": [
              "<div>\n",
              "<style scoped>\n",
              "    .dataframe tbody tr th:only-of-type {\n",
              "        vertical-align: middle;\n",
              "    }\n",
              "\n",
              "    .dataframe tbody tr th {\n",
              "        vertical-align: top;\n",
              "    }\n",
              "\n",
              "    .dataframe thead th {\n",
              "        text-align: right;\n",
              "    }\n",
              "</style>\n",
              "<table border=\"1\" class=\"dataframe\">\n",
              "  <thead>\n",
              "    <tr style=\"text-align: right;\">\n",
              "      <th></th>\n",
              "      <th>tau1</th>\n",
              "      <th>tau2</th>\n",
              "      <th>tau3</th>\n",
              "      <th>tau4</th>\n",
              "      <th>p1</th>\n",
              "      <th>p2</th>\n",
              "      <th>p3</th>\n",
              "      <th>p4</th>\n",
              "      <th>g1</th>\n",
              "      <th>g2</th>\n",
              "      <th>g3</th>\n",
              "      <th>g4</th>\n",
              "      <th>stab</th>\n",
              "    </tr>\n",
              "  </thead>\n",
              "  <tbody>\n",
              "    <tr>\n",
              "      <th>count</th>\n",
              "      <td>10000.000000</td>\n",
              "      <td>10000.000000</td>\n",
              "      <td>10000.000000</td>\n",
              "      <td>10000.000000</td>\n",
              "      <td>10000.000000</td>\n",
              "      <td>10000.000000</td>\n",
              "      <td>10000.000000</td>\n",
              "      <td>10000.000000</td>\n",
              "      <td>10000.000000</td>\n",
              "      <td>10000.000000</td>\n",
              "      <td>10000.000000</td>\n",
              "      <td>10000.000000</td>\n",
              "      <td>10000.000000</td>\n",
              "    </tr>\n",
              "    <tr>\n",
              "      <th>mean</th>\n",
              "      <td>5.250000</td>\n",
              "      <td>5.250001</td>\n",
              "      <td>5.250004</td>\n",
              "      <td>5.249997</td>\n",
              "      <td>3.750000</td>\n",
              "      <td>-1.250000</td>\n",
              "      <td>-1.250000</td>\n",
              "      <td>-1.250000</td>\n",
              "      <td>0.525000</td>\n",
              "      <td>0.525000</td>\n",
              "      <td>0.525000</td>\n",
              "      <td>0.525000</td>\n",
              "      <td>0.015731</td>\n",
              "    </tr>\n",
              "    <tr>\n",
              "      <th>std</th>\n",
              "      <td>2.742548</td>\n",
              "      <td>2.742549</td>\n",
              "      <td>2.742549</td>\n",
              "      <td>2.742556</td>\n",
              "      <td>0.752160</td>\n",
              "      <td>0.433035</td>\n",
              "      <td>0.433035</td>\n",
              "      <td>0.433035</td>\n",
              "      <td>0.274256</td>\n",
              "      <td>0.274255</td>\n",
              "      <td>0.274255</td>\n",
              "      <td>0.274255</td>\n",
              "      <td>0.036919</td>\n",
              "    </tr>\n",
              "    <tr>\n",
              "      <th>min</th>\n",
              "      <td>0.500793</td>\n",
              "      <td>0.500141</td>\n",
              "      <td>0.500788</td>\n",
              "      <td>0.500473</td>\n",
              "      <td>1.582590</td>\n",
              "      <td>-1.999891</td>\n",
              "      <td>-1.999945</td>\n",
              "      <td>-1.999926</td>\n",
              "      <td>0.050009</td>\n",
              "      <td>0.050053</td>\n",
              "      <td>0.050054</td>\n",
              "      <td>0.050028</td>\n",
              "      <td>-0.080760</td>\n",
              "    </tr>\n",
              "    <tr>\n",
              "      <th>25%</th>\n",
              "      <td>2.874892</td>\n",
              "      <td>2.875140</td>\n",
              "      <td>2.875522</td>\n",
              "      <td>2.874950</td>\n",
              "      <td>3.218300</td>\n",
              "      <td>-1.624901</td>\n",
              "      <td>-1.625025</td>\n",
              "      <td>-1.624960</td>\n",
              "      <td>0.287521</td>\n",
              "      <td>0.287552</td>\n",
              "      <td>0.287514</td>\n",
              "      <td>0.287494</td>\n",
              "      <td>-0.015557</td>\n",
              "    </tr>\n",
              "    <tr>\n",
              "      <th>50%</th>\n",
              "      <td>5.250004</td>\n",
              "      <td>5.249981</td>\n",
              "      <td>5.249979</td>\n",
              "      <td>5.249734</td>\n",
              "      <td>3.751025</td>\n",
              "      <td>-1.249966</td>\n",
              "      <td>-1.249974</td>\n",
              "      <td>-1.250007</td>\n",
              "      <td>0.525009</td>\n",
              "      <td>0.525003</td>\n",
              "      <td>0.525015</td>\n",
              "      <td>0.525002</td>\n",
              "      <td>0.017142</td>\n",
              "    </tr>\n",
              "    <tr>\n",
              "      <th>75%</th>\n",
              "      <td>7.624690</td>\n",
              "      <td>7.624893</td>\n",
              "      <td>7.624948</td>\n",
              "      <td>7.624838</td>\n",
              "      <td>4.282420</td>\n",
              "      <td>-0.874977</td>\n",
              "      <td>-0.875043</td>\n",
              "      <td>-0.875065</td>\n",
              "      <td>0.762435</td>\n",
              "      <td>0.762490</td>\n",
              "      <td>0.762440</td>\n",
              "      <td>0.762433</td>\n",
              "      <td>0.044878</td>\n",
              "    </tr>\n",
              "    <tr>\n",
              "      <th>max</th>\n",
              "      <td>9.999469</td>\n",
              "      <td>9.999837</td>\n",
              "      <td>9.999450</td>\n",
              "      <td>9.999443</td>\n",
              "      <td>5.864418</td>\n",
              "      <td>-0.500108</td>\n",
              "      <td>-0.500072</td>\n",
              "      <td>-0.500025</td>\n",
              "      <td>0.999937</td>\n",
              "      <td>0.999944</td>\n",
              "      <td>0.999982</td>\n",
              "      <td>0.999930</td>\n",
              "      <td>0.109403</td>\n",
              "    </tr>\n",
              "  </tbody>\n",
              "</table>\n",
              "</div>"
            ],
            "text/plain": [
              "               tau1          tau2  ...            g4          stab\n",
              "count  10000.000000  10000.000000  ...  10000.000000  10000.000000\n",
              "mean       5.250000      5.250001  ...      0.525000      0.015731\n",
              "std        2.742548      2.742549  ...      0.274255      0.036919\n",
              "min        0.500793      0.500141  ...      0.050028     -0.080760\n",
              "25%        2.874892      2.875140  ...      0.287494     -0.015557\n",
              "50%        5.250004      5.249981  ...      0.525002      0.017142\n",
              "75%        7.624690      7.624893  ...      0.762433      0.044878\n",
              "max        9.999469      9.999837  ...      0.999930      0.109403\n",
              "\n",
              "[8 rows x 13 columns]"
            ]
          },
          "metadata": {},
          "execution_count": 28
        }
      ]
    },
    {
      "cell_type": "code",
      "metadata": {
        "colab": {
          "base_uri": "https://localhost:8080/"
        },
        "id": "oOAL86zXeslk",
        "outputId": "410f5742-0fc1-4d8b-9a2c-18e017d1409d"
      },
      "source": [
        "df.isna().sum()\n",
        "#check for null values"
      ],
      "execution_count": 29,
      "outputs": [
        {
          "output_type": "execute_result",
          "data": {
            "text/plain": [
              "tau1     0\n",
              "tau2     0\n",
              "tau3     0\n",
              "tau4     0\n",
              "p1       0\n",
              "p2       0\n",
              "p3       0\n",
              "p4       0\n",
              "g1       0\n",
              "g2       0\n",
              "g3       0\n",
              "g4       0\n",
              "stab     0\n",
              "stabf    0\n",
              "dtype: int64"
            ]
          },
          "metadata": {},
          "execution_count": 29
        }
      ]
    },
    {
      "cell_type": "code",
      "metadata": {
        "id": "_JpbMXUKe1As"
      },
      "source": [
        "df = df.drop(columns = 'stab')"
      ],
      "execution_count": 30,
      "outputs": []
    },
    {
      "cell_type": "code",
      "metadata": {
        "id": "9umqecCme6oS"
      },
      "source": [
        "X = df.drop(['stabf'],axis = 1)\n",
        "y = df['stabf']\n",
        "#split in predictors and labels"
      ],
      "execution_count": 31,
      "outputs": []
    },
    {
      "cell_type": "code",
      "metadata": {
        "colab": {
          "base_uri": "https://localhost:8080/"
        },
        "id": "Tyx_PVb6fB2x",
        "outputId": "2f833160-d491-4b34-a4a0-27e63a22c1d2"
      },
      "source": [
        "df.stabf.value_counts()\n"
      ],
      "execution_count": 32,
      "outputs": [
        {
          "output_type": "execute_result",
          "data": {
            "text/plain": [
              "unstable    6380\n",
              "stable      3620\n",
              "Name: stabf, dtype: int64"
            ]
          },
          "metadata": {},
          "execution_count": 32
        }
      ]
    },
    {
      "cell_type": "code",
      "metadata": {
        "id": "_CIeKzMUfEuc"
      },
      "source": [
        "from sklearn.model_selection import train_test_split\n",
        "X_train, X_test, y_train, y_test = train_test_split( X, y, test_size=0.2, random_state=1)"
      ],
      "execution_count": 33,
      "outputs": []
    },
    {
      "cell_type": "code",
      "metadata": {
        "colab": {
          "base_uri": "https://localhost:8080/"
        },
        "id": "9jAjxrE2fIvQ",
        "outputId": "21fc528e-be99-43ff-a7bf-df89350e66ef"
      },
      "source": [
        "y_train.value_counts()"
      ],
      "execution_count": 34,
      "outputs": [
        {
          "output_type": "execute_result",
          "data": {
            "text/plain": [
              "unstable    5092\n",
              "stable      2908\n",
              "Name: stabf, dtype: int64"
            ]
          },
          "metadata": {},
          "execution_count": 34
        }
      ]
    },
    {
      "cell_type": "code",
      "metadata": {
        "colab": {
          "base_uri": "https://localhost:8080/"
        },
        "id": "8FWzp70ifJ4f",
        "outputId": "d4a1acac-277c-4bde-ac42-e367524a948b"
      },
      "source": [
        "y_test.value_counts()"
      ],
      "execution_count": 35,
      "outputs": [
        {
          "output_type": "execute_result",
          "data": {
            "text/plain": [
              "unstable    1288\n",
              "stable       712\n",
              "Name: stabf, dtype: int64"
            ]
          },
          "metadata": {},
          "execution_count": 35
        }
      ]
    },
    {
      "cell_type": "code",
      "metadata": {
        "id": "YMEQlZZ4fPGv"
      },
      "source": [
        "X_train.head(3)"
      ],
      "execution_count": null,
      "outputs": []
    },
    {
      "cell_type": "code",
      "metadata": {
        "colab": {
          "base_uri": "https://localhost:8080/",
          "height": 143
        },
        "id": "kICp2BlFfVQS",
        "outputId": "ce2273d9-5fa1-44e5-f13c-60beb409f472"
      },
      "source": [
        "X_test.head(3)"
      ],
      "execution_count": 37,
      "outputs": [
        {
          "output_type": "execute_result",
          "data": {
            "text/html": [
              "<div>\n",
              "<style scoped>\n",
              "    .dataframe tbody tr th:only-of-type {\n",
              "        vertical-align: middle;\n",
              "    }\n",
              "\n",
              "    .dataframe tbody tr th {\n",
              "        vertical-align: top;\n",
              "    }\n",
              "\n",
              "    .dataframe thead th {\n",
              "        text-align: right;\n",
              "    }\n",
              "</style>\n",
              "<table border=\"1\" class=\"dataframe\">\n",
              "  <thead>\n",
              "    <tr style=\"text-align: right;\">\n",
              "      <th></th>\n",
              "      <th>tau1</th>\n",
              "      <th>tau2</th>\n",
              "      <th>tau3</th>\n",
              "      <th>tau4</th>\n",
              "      <th>p1</th>\n",
              "      <th>p2</th>\n",
              "      <th>p3</th>\n",
              "      <th>p4</th>\n",
              "      <th>g1</th>\n",
              "      <th>g2</th>\n",
              "      <th>g3</th>\n",
              "      <th>g4</th>\n",
              "    </tr>\n",
              "  </thead>\n",
              "  <tbody>\n",
              "    <tr>\n",
              "      <th>9953</th>\n",
              "      <td>6.877876</td>\n",
              "      <td>4.113820</td>\n",
              "      <td>9.356768</td>\n",
              "      <td>8.299753</td>\n",
              "      <td>4.056779</td>\n",
              "      <td>-1.897470</td>\n",
              "      <td>-1.590581</td>\n",
              "      <td>-0.568728</td>\n",
              "      <td>0.276567</td>\n",
              "      <td>0.845536</td>\n",
              "      <td>0.112440</td>\n",
              "      <td>0.822562</td>\n",
              "    </tr>\n",
              "    <tr>\n",
              "      <th>3850</th>\n",
              "      <td>5.802841</td>\n",
              "      <td>6.271371</td>\n",
              "      <td>4.731540</td>\n",
              "      <td>3.819867</td>\n",
              "      <td>3.579569</td>\n",
              "      <td>-1.709480</td>\n",
              "      <td>-1.067511</td>\n",
              "      <td>-0.802579</td>\n",
              "      <td>0.077527</td>\n",
              "      <td>0.416478</td>\n",
              "      <td>0.912846</td>\n",
              "      <td>0.861306</td>\n",
              "    </tr>\n",
              "    <tr>\n",
              "      <th>4962</th>\n",
              "      <td>2.286998</td>\n",
              "      <td>4.385142</td>\n",
              "      <td>2.830232</td>\n",
              "      <td>5.293880</td>\n",
              "      <td>3.035814</td>\n",
              "      <td>-1.202764</td>\n",
              "      <td>-0.902011</td>\n",
              "      <td>-0.931039</td>\n",
              "      <td>0.924216</td>\n",
              "      <td>0.130186</td>\n",
              "      <td>0.703887</td>\n",
              "      <td>0.063811</td>\n",
              "    </tr>\n",
              "  </tbody>\n",
              "</table>\n",
              "</div>"
            ],
            "text/plain": [
              "          tau1      tau2      tau3  ...        g2        g3        g4\n",
              "9953  6.877876  4.113820  9.356768  ...  0.845536  0.112440  0.822562\n",
              "3850  5.802841  6.271371  4.731540  ...  0.416478  0.912846  0.861306\n",
              "4962  2.286998  4.385142  2.830232  ...  0.130186  0.703887  0.063811\n",
              "\n",
              "[3 rows x 12 columns]"
            ]
          },
          "metadata": {},
          "execution_count": 37
        }
      ]
    },
    {
      "cell_type": "code",
      "metadata": {
        "id": "9GdfOerTfZne"
      },
      "source": [
        "#standard scaling\n",
        "from sklearn.preprocessing import StandardScaler\n",
        "scaler = StandardScaler()"
      ],
      "execution_count": 39,
      "outputs": []
    },
    {
      "cell_type": "code",
      "metadata": {
        "colab": {
          "base_uri": "https://localhost:8080/",
          "height": 206
        },
        "id": "4jR8aR9lfk1_",
        "outputId": "d7659bfc-8c76-4194-def9-45238aaad7ff"
      },
      "source": [
        "transformed_X_train = scaler.fit_transform(X_train)\n",
        "transformed_X_train = pd.DataFrame(transformed_X_train, columns = X_train.columns)\n",
        "\n",
        "transformed_X_train.head() "
      ],
      "execution_count": 40,
      "outputs": [
        {
          "output_type": "execute_result",
          "data": {
            "text/html": [
              "<div>\n",
              "<style scoped>\n",
              "    .dataframe tbody tr th:only-of-type {\n",
              "        vertical-align: middle;\n",
              "    }\n",
              "\n",
              "    .dataframe tbody tr th {\n",
              "        vertical-align: top;\n",
              "    }\n",
              "\n",
              "    .dataframe thead th {\n",
              "        text-align: right;\n",
              "    }\n",
              "</style>\n",
              "<table border=\"1\" class=\"dataframe\">\n",
              "  <thead>\n",
              "    <tr style=\"text-align: right;\">\n",
              "      <th></th>\n",
              "      <th>tau1</th>\n",
              "      <th>tau2</th>\n",
              "      <th>tau3</th>\n",
              "      <th>tau4</th>\n",
              "      <th>p1</th>\n",
              "      <th>p2</th>\n",
              "      <th>p3</th>\n",
              "      <th>p4</th>\n",
              "      <th>g1</th>\n",
              "      <th>g2</th>\n",
              "      <th>g3</th>\n",
              "      <th>g4</th>\n",
              "    </tr>\n",
              "  </thead>\n",
              "  <tbody>\n",
              "    <tr>\n",
              "      <th>0</th>\n",
              "      <td>0.367327</td>\n",
              "      <td>-0.986042</td>\n",
              "      <td>0.650447</td>\n",
              "      <td>1.547527</td>\n",
              "      <td>-0.291490</td>\n",
              "      <td>0.061535</td>\n",
              "      <td>1.293862</td>\n",
              "      <td>-0.845074</td>\n",
              "      <td>0.160918</td>\n",
              "      <td>0.339859</td>\n",
              "      <td>0.585568</td>\n",
              "      <td>0.492239</td>\n",
              "    </tr>\n",
              "    <tr>\n",
              "      <th>1</th>\n",
              "      <td>-0.064659</td>\n",
              "      <td>0.089437</td>\n",
              "      <td>1.035079</td>\n",
              "      <td>-1.641494</td>\n",
              "      <td>0.619865</td>\n",
              "      <td>-0.067235</td>\n",
              "      <td>-1.502925</td>\n",
              "      <td>0.486613</td>\n",
              "      <td>-0.293143</td>\n",
              "      <td>-1.558488</td>\n",
              "      <td>1.429649</td>\n",
              "      <td>-1.443521</td>\n",
              "    </tr>\n",
              "    <tr>\n",
              "      <th>2</th>\n",
              "      <td>-1.467850</td>\n",
              "      <td>1.298418</td>\n",
              "      <td>-0.502536</td>\n",
              "      <td>1.166046</td>\n",
              "      <td>-0.180521</td>\n",
              "      <td>0.490603</td>\n",
              "      <td>0.682560</td>\n",
              "      <td>-0.855302</td>\n",
              "      <td>1.399350</td>\n",
              "      <td>1.451534</td>\n",
              "      <td>-1.045743</td>\n",
              "      <td>0.492489</td>\n",
              "    </tr>\n",
              "    <tr>\n",
              "      <th>3</th>\n",
              "      <td>0.820081</td>\n",
              "      <td>0.529920</td>\n",
              "      <td>1.299657</td>\n",
              "      <td>-1.141975</td>\n",
              "      <td>-0.812854</td>\n",
              "      <td>-0.763632</td>\n",
              "      <td>1.521579</td>\n",
              "      <td>0.658780</td>\n",
              "      <td>-0.958319</td>\n",
              "      <td>1.361958</td>\n",
              "      <td>1.604140</td>\n",
              "      <td>0.275303</td>\n",
              "    </tr>\n",
              "    <tr>\n",
              "      <th>4</th>\n",
              "      <td>0.665424</td>\n",
              "      <td>-1.425627</td>\n",
              "      <td>0.312300</td>\n",
              "      <td>0.919137</td>\n",
              "      <td>-1.614296</td>\n",
              "      <td>0.760315</td>\n",
              "      <td>1.422019</td>\n",
              "      <td>0.639243</td>\n",
              "      <td>1.676895</td>\n",
              "      <td>0.695660</td>\n",
              "      <td>1.137504</td>\n",
              "      <td>-1.312575</td>\n",
              "    </tr>\n",
              "  </tbody>\n",
              "</table>\n",
              "</div>"
            ],
            "text/plain": [
              "       tau1      tau2      tau3  ...        g2        g3        g4\n",
              "0  0.367327 -0.986042  0.650447  ...  0.339859  0.585568  0.492239\n",
              "1 -0.064659  0.089437  1.035079  ... -1.558488  1.429649 -1.443521\n",
              "2 -1.467850  1.298418 -0.502536  ...  1.451534 -1.045743  0.492489\n",
              "3  0.820081  0.529920  1.299657  ...  1.361958  1.604140  0.275303\n",
              "4  0.665424 -1.425627  0.312300  ...  0.695660  1.137504 -1.312575\n",
              "\n",
              "[5 rows x 12 columns]"
            ]
          },
          "metadata": {},
          "execution_count": 40
        }
      ]
    },
    {
      "cell_type": "code",
      "metadata": {
        "colab": {
          "base_uri": "https://localhost:8080/",
          "height": 206
        },
        "id": "FSIR-ySQfsV2",
        "outputId": "6ad87bf0-af4b-4002-9121-38d46e39d4ea"
      },
      "source": [
        "transformed_X_test = scaler.transform(X_test)\n",
        "transformed_X_test = pd.DataFrame(transformed_X_test, columns = X_test.columns)\n",
        "\n",
        "transformed_X_test.head() "
      ],
      "execution_count": 41,
      "outputs": [
        {
          "output_type": "execute_result",
          "data": {
            "text/html": [
              "<div>\n",
              "<style scoped>\n",
              "    .dataframe tbody tr th:only-of-type {\n",
              "        vertical-align: middle;\n",
              "    }\n",
              "\n",
              "    .dataframe tbody tr th {\n",
              "        vertical-align: top;\n",
              "    }\n",
              "\n",
              "    .dataframe thead th {\n",
              "        text-align: right;\n",
              "    }\n",
              "</style>\n",
              "<table border=\"1\" class=\"dataframe\">\n",
              "  <thead>\n",
              "    <tr style=\"text-align: right;\">\n",
              "      <th></th>\n",
              "      <th>tau1</th>\n",
              "      <th>tau2</th>\n",
              "      <th>tau3</th>\n",
              "      <th>tau4</th>\n",
              "      <th>p1</th>\n",
              "      <th>p2</th>\n",
              "      <th>p3</th>\n",
              "      <th>p4</th>\n",
              "      <th>g1</th>\n",
              "      <th>g2</th>\n",
              "      <th>g3</th>\n",
              "      <th>g4</th>\n",
              "    </tr>\n",
              "  </thead>\n",
              "  <tbody>\n",
              "    <tr>\n",
              "      <th>0</th>\n",
              "      <td>0.593951</td>\n",
              "      <td>-0.412733</td>\n",
              "      <td>1.503924</td>\n",
              "      <td>1.116943</td>\n",
              "      <td>0.403423</td>\n",
              "      <td>-1.492971</td>\n",
              "      <td>-0.785033</td>\n",
              "      <td>1.566781</td>\n",
              "      <td>-0.901007</td>\n",
              "      <td>1.167203</td>\n",
              "      <td>-1.507330</td>\n",
              "      <td>1.084726</td>\n",
              "    </tr>\n",
              "    <tr>\n",
              "      <th>1</th>\n",
              "      <td>0.202190</td>\n",
              "      <td>0.374416</td>\n",
              "      <td>-0.188800</td>\n",
              "      <td>-0.522268</td>\n",
              "      <td>-0.225967</td>\n",
              "      <td>-1.058483</td>\n",
              "      <td>0.420047</td>\n",
              "      <td>1.028627</td>\n",
              "      <td>-1.625721</td>\n",
              "      <td>-0.395660</td>\n",
              "      <td>1.414651</td>\n",
              "      <td>1.226011</td>\n",
              "    </tr>\n",
              "    <tr>\n",
              "      <th>2</th>\n",
              "      <td>-1.079044</td>\n",
              "      <td>-0.313745</td>\n",
              "      <td>-0.884634</td>\n",
              "      <td>0.017080</td>\n",
              "      <td>-0.943122</td>\n",
              "      <td>0.112653</td>\n",
              "      <td>0.801335</td>\n",
              "      <td>0.733004</td>\n",
              "      <td>1.457108</td>\n",
              "      <td>-1.438495</td>\n",
              "      <td>0.651821</td>\n",
              "      <td>-1.682168</td>\n",
              "    </tr>\n",
              "    <tr>\n",
              "      <th>3</th>\n",
              "      <td>-0.083120</td>\n",
              "      <td>-1.107327</td>\n",
              "      <td>0.372805</td>\n",
              "      <td>-1.708152</td>\n",
              "      <td>0.753990</td>\n",
              "      <td>-1.637972</td>\n",
              "      <td>0.403805</td>\n",
              "      <td>-0.088036</td>\n",
              "      <td>0.083322</td>\n",
              "      <td>-1.672322</td>\n",
              "      <td>-0.357714</td>\n",
              "      <td>1.055865</td>\n",
              "    </tr>\n",
              "    <tr>\n",
              "      <th>4</th>\n",
              "      <td>0.873921</td>\n",
              "      <td>1.438466</td>\n",
              "      <td>0.086662</td>\n",
              "      <td>1.715037</td>\n",
              "      <td>-0.153880</td>\n",
              "      <td>-0.007015</td>\n",
              "      <td>-0.197053</td>\n",
              "      <td>0.472315</td>\n",
              "      <td>0.136549</td>\n",
              "      <td>-1.469731</td>\n",
              "      <td>0.956396</td>\n",
              "      <td>-0.819727</td>\n",
              "    </tr>\n",
              "  </tbody>\n",
              "</table>\n",
              "</div>"
            ],
            "text/plain": [
              "       tau1      tau2      tau3  ...        g2        g3        g4\n",
              "0  0.593951 -0.412733  1.503924  ...  1.167203 -1.507330  1.084726\n",
              "1  0.202190  0.374416 -0.188800  ... -0.395660  1.414651  1.226011\n",
              "2 -1.079044 -0.313745 -0.884634  ... -1.438495  0.651821 -1.682168\n",
              "3 -0.083120 -1.107327  0.372805  ... -1.672322 -0.357714  1.055865\n",
              "4  0.873921  1.438466  0.086662  ... -1.469731  0.956396 -0.819727\n",
              "\n",
              "[5 rows x 12 columns]"
            ]
          },
          "metadata": {},
          "execution_count": 41
        }
      ]
    },
    {
      "cell_type": "markdown",
      "metadata": {
        "id": "mEboDoWufyMA"
      },
      "source": [
        "**Question 1**"
      ]
    },
    {
      "cell_type": "code",
      "metadata": {
        "colab": {
          "base_uri": "https://localhost:8080/"
        },
        "id": "4FaGbcRKfuvw",
        "outputId": "578941f1-7787-4a75-af7e-f7d0d9e7c483"
      },
      "source": [
        "Precision = (355/ ( 355+1480)) \n",
        "Recall =  (355 /(355+45)) \n",
        "F1_Score = 2 * (Precision*Recall)/(Precision + Recall)\n",
        "print(round(F1_Score,4))"
      ],
      "execution_count": 42,
      "outputs": [
        {
          "output_type": "stream",
          "name": "stdout",
          "text": [
            "0.3177\n"
          ]
        }
      ]
    },
    {
      "cell_type": "markdown",
      "metadata": {
        "id": "kjodgrdHf-C0"
      },
      "source": [
        "**Question 2**\n",
        "\n",
        "***Answer: Maximum Likelihood***"
      ]
    },
    {
      "cell_type": "markdown",
      "metadata": {
        "id": "TsSpiK7DgGoL"
      },
      "source": [
        "**Question 3**\n",
        "\n",
        "***Answer:To Prevent Overfitting***"
      ]
    },
    {
      "cell_type": "markdown",
      "metadata": {
        "id": "p7HZU1HCgN7A"
      },
      "source": [
        "**Question 4**\n",
        "\n",
        "***Answer:TN = 98%, FP = 2%, FN = 18%, TP = 82%***"
      ]
    },
    {
      "cell_type": "markdown",
      "metadata": {
        "id": "i09AtNvAgZkE"
      },
      "source": [
        "**Question 5**\n",
        "\n",
        "***Answer: Boosting***"
      ]
    },
    {
      "cell_type": "markdown",
      "metadata": {
        "id": "Tsx3QxzMgf7n"
      },
      "source": [
        "**Question 6**\n",
        "\n",
        "***Decision Tree***"
      ]
    },
    {
      "cell_type": "markdown",
      "metadata": {
        "id": "S2oTv0S0glAh"
      },
      "source": [
        "**Question 7**\n",
        "\n",
        "***Answer: Recall***"
      ]
    },
    {
      "cell_type": "markdown",
      "metadata": {
        "id": "KYO5-ar2gw78"
      },
      "source": [
        "**Question 8**\n",
        "\n",
        "***Answer: The model has no discrimination capacity to differentiate between the positive and the negative class***"
      ]
    },
    {
      "cell_type": "markdown",
      "metadata": {
        "id": "5gIo6t3Wg48a"
      },
      "source": [
        "**Question 9**\n",
        "\n",
        "***Answer: 8***"
      ]
    },
    {
      "cell_type": "markdown",
      "metadata": {
        "id": "t2ckfILjhBXc"
      },
      "source": [
        "**Question 10**\n",
        "\n",
        "***Answer: Over-sample instances from the negative (no cancer) class Generate synthetic samples/data using SMOTE,Collect more data from postive case***"
      ]
    },
    {
      "cell_type": "markdown",
      "metadata": {
        "id": "MNpzoJe_hSkQ"
      },
      "source": [
        "**Question 11**\n",
        "\n",
        "***Answer: One-Hot encoding***"
      ]
    },
    {
      "cell_type": "markdown",
      "metadata": {
        "id": "jetNYbvlhcE4"
      },
      "source": [
        "**Question 12**\n",
        "\n",
        "***Answer:- 3/7 log(3/7) - 4/7 log(4/7)***"
      ]
    },
    {
      "cell_type": "markdown",
      "metadata": {
        "id": "NndAwm8bhjA5"
      },
      "source": [
        "**Question 13**\n",
        "\n",
        "***Answer: Accuracy***"
      ]
    },
    {
      "cell_type": "markdown",
      "metadata": {
        "id": "CP4FwuNBh9ad"
      },
      "source": [
        "**Question 14**"
      ]
    },
    {
      "cell_type": "code",
      "metadata": {
        "colab": {
          "base_uri": "https://localhost:8080/"
        },
        "id": "F_mrx1uVhzY8",
        "outputId": "62b49667-ba5a-4d5f-a171-35b667a19c36"
      },
      "source": [
        "from sklearn.ensemble import RandomForestClassifier  # importing our classifier and fitting in the the training data\n",
        "Random_C = RandomForestClassifier(random_state=1)\n",
        "Random_C.fit(transformed_X_train,y_train)"
      ],
      "execution_count": 43,
      "outputs": [
        {
          "output_type": "execute_result",
          "data": {
            "text/plain": [
              "RandomForestClassifier(bootstrap=True, ccp_alpha=0.0, class_weight=None,\n",
              "                       criterion='gini', max_depth=None, max_features='auto',\n",
              "                       max_leaf_nodes=None, max_samples=None,\n",
              "                       min_impurity_decrease=0.0, min_impurity_split=None,\n",
              "                       min_samples_leaf=1, min_samples_split=2,\n",
              "                       min_weight_fraction_leaf=0.0, n_estimators=100,\n",
              "                       n_jobs=None, oob_score=False, random_state=1, verbose=0,\n",
              "                       warm_start=False)"
            ]
          },
          "metadata": {},
          "execution_count": 43
        }
      ]
    },
    {
      "cell_type": "code",
      "metadata": {
        "colab": {
          "base_uri": "https://localhost:8080/"
        },
        "id": "yX5_HYuHh3FM",
        "outputId": "ef23409b-6ff5-4140-ea35-4c2e2b6e00bf"
      },
      "source": [
        "predict = Random_C.predict(transformed_X_test)\n",
        "\n",
        "from sklearn.metrics import recall_score, accuracy_score, precision_score, f1_score, confusion_matrix\n",
        "\n",
        "print(\"Accuracy score {}\".format(round(accuracy_score(y_test, predict), 4)))\n"
      ],
      "execution_count": 46,
      "outputs": [
        {
          "output_type": "stream",
          "name": "stdout",
          "text": [
            "Accuracy score 0.929\n"
          ]
        }
      ]
    },
    {
      "cell_type": "markdown",
      "metadata": {
        "id": "370dObS5iA57"
      },
      "source": [
        "**Question 15**"
      ]
    },
    {
      "cell_type": "code",
      "metadata": {
        "colab": {
          "base_uri": "https://localhost:8080/"
        },
        "id": "2sYkQBZriDdN",
        "outputId": "2dd09cd8-51b7-497c-f343-1fe3d189f821"
      },
      "source": [
        "from xgboost import XGBClassifier\n",
        "extreme = XGBClassifier(random_state =1)\n",
        "extreme.fit(transformed_X_train, y_train)\n",
        "extreme_pred = extreme.predict(transformed_X_test)\n",
        "\n",
        "from sklearn.metrics import classification_report\n",
        "\n",
        "print(classification_report(y_test, extreme_pred))\n"
      ],
      "execution_count": 48,
      "outputs": [
        {
          "output_type": "stream",
          "name": "stdout",
          "text": [
            "              precision    recall  f1-score   support\n",
            "\n",
            "      stable       0.92      0.85      0.88       712\n",
            "    unstable       0.92      0.96      0.94      1288\n",
            "\n",
            "    accuracy                           0.92      2000\n",
            "   macro avg       0.92      0.90      0.91      2000\n",
            "weighted avg       0.92      0.92      0.92      2000\n",
            "\n"
          ]
        }
      ]
    },
    {
      "cell_type": "code",
      "metadata": {
        "colab": {
          "base_uri": "https://localhost:8080/"
        },
        "id": "9ceLApLsiPVW",
        "outputId": "1f004a5d-2187-47ea-eba8-e28bb568e528"
      },
      "source": [
        "round(accuracy_score(y_test,extreme_pred),4)"
      ],
      "execution_count": 49,
      "outputs": [
        {
          "output_type": "execute_result",
          "data": {
            "text/plain": [
              "0.9195"
            ]
          },
          "metadata": {},
          "execution_count": 49
        }
      ]
    },
    {
      "cell_type": "markdown",
      "metadata": {
        "id": "Ow3mcbyiiQ05"
      },
      "source": [
        "**Question 16**"
      ]
    },
    {
      "cell_type": "code",
      "metadata": {
        "id": "p60eykuCiTZA"
      },
      "source": [
        "import lightgbm as lgbm\n",
        "\n",
        "lgbm = lgbm.LGBMClassifier(random_state=1)\n",
        "lgbm.fit(transformed_X_train,y_train)\n",
        "lgbm_predict  = lgbm.predict(transformed_X_test)"
      ],
      "execution_count": 50,
      "outputs": []
    },
    {
      "cell_type": "code",
      "metadata": {
        "colab": {
          "base_uri": "https://localhost:8080/"
        },
        "id": "RHCt5tTqiayY",
        "outputId": "c12bdfc1-36f0-44a4-e607-47168eefc616"
      },
      "source": [
        "round(accuracy_score(y_test, lgbm_predict),4)"
      ],
      "execution_count": 51,
      "outputs": [
        {
          "output_type": "execute_result",
          "data": {
            "text/plain": [
              "0.9375"
            ]
          },
          "metadata": {},
          "execution_count": 51
        }
      ]
    },
    {
      "cell_type": "markdown",
      "metadata": {
        "id": "mqyN88gWidD2"
      },
      "source": [
        "**Question 17**"
      ]
    },
    {
      "cell_type": "code",
      "metadata": {
        "colab": {
          "base_uri": "https://localhost:8080/"
        },
        "id": "JcwZrlyoinXc",
        "outputId": "6e3542c1-a891-4038-e38a-80ad3ee45927"
      },
      "source": [
        "from sklearn.ensemble import ExtraTreesClassifier\n",
        "\n",
        "Tree_CLass = ExtraTreesClassifier (random_state = 1)  \n",
        "\n",
        "n_estimators = [50, 100, 300, 500, 1000]    \n",
        "\n",
        "min_samples_split = [2, 3, 5, 7, 9]\n",
        "\n",
        "min_samples_leaf = [1, 2, 4, 6, 8]\n",
        "\n",
        "max_features = ['auto', 'sqrt', 'log2', None] \n",
        "\n",
        "hyperparameter_grid = {'n_estimators': n_estimators,\n",
        "\n",
        "                       'min_samples_leaf': min_samples_leaf,\n",
        "\n",
        "                       'min_samples_split': min_samples_split,\n",
        "\n",
        "                       'max_features': max_features}\n",
        "\n",
        "\n",
        "from sklearn.model_selection import RandomizedSearchCV     \n",
        "\n",
        "\n",
        "\n",
        "Rand_search = RandomizedSearchCV(estimator = Tree_CLass, param_distributions= hyperparameter_grid, random_state=1,cv = 5, n_iter=10,scoring='accuracy',n_jobs=1, verbose=1)\n",
        "\n",
        "search = Rand_search.fit(transformed_X_train,y_train)     \n"
      ],
      "execution_count": 53,
      "outputs": [
        {
          "output_type": "stream",
          "name": "stdout",
          "text": [
            "Fitting 5 folds for each of 10 candidates, totalling 50 fits\n"
          ]
        },
        {
          "output_type": "stream",
          "name": "stderr",
          "text": [
            "[Parallel(n_jobs=1)]: Using backend SequentialBackend with 1 concurrent workers.\n",
            "[Parallel(n_jobs=1)]: Done  50 out of  50 | elapsed:  2.0min finished\n"
          ]
        }
      ]
    },
    {
      "cell_type": "code",
      "metadata": {
        "colab": {
          "base_uri": "https://localhost:8080/"
        },
        "id": "F88NS3Wgi7FU",
        "outputId": "765bb4a6-1862-4280-cec3-f040cafe9463"
      },
      "source": [
        "search.best_params_"
      ],
      "execution_count": 54,
      "outputs": [
        {
          "output_type": "execute_result",
          "data": {
            "text/plain": [
              "{'max_features': None,\n",
              " 'min_samples_leaf': 8,\n",
              " 'min_samples_split': 2,\n",
              " 'n_estimators': 1000}"
            ]
          },
          "metadata": {},
          "execution_count": 54
        }
      ]
    },
    {
      "cell_type": "markdown",
      "metadata": {
        "id": "bfPfOKIri9D7"
      },
      "source": [
        "**Questio 18**\n"
      ]
    },
    {
      "cell_type": "code",
      "metadata": {
        "id": "yy3pveItjCIp"
      },
      "source": [
        "\n",
        "best_Tree_Class = ExtraTreesClassifier(n_estimators=1000, min_samples_split=2, \n",
        "                                 min_samples_leaf=8, max_features=None)\n",
        "best_Tree_Class.fit(transformed_X_train, y_train)\n",
        "best_Tree_Class = best_Tree_Class.predict(transformed_X_test)"
      ],
      "execution_count": 55,
      "outputs": []
    },
    {
      "cell_type": "code",
      "metadata": {
        "colab": {
          "base_uri": "https://localhost:8080/"
        },
        "id": "kldGml3FjIL1",
        "outputId": "80f5b796-1d6e-4ce8-ba47-4c887ba158e8"
      },
      "source": [
        "print(classification_report(y_test,best_Tree_Class, digits=4)) #  adding digits = 4 is to get my answer in 4dp.\n",
        "print('\\n')\n",
        "print(\"Accuracy score {}\".format(accuracy_score(y_test, best_Tree_Class)))"
      ],
      "execution_count": 56,
      "outputs": [
        {
          "output_type": "stream",
          "name": "stdout",
          "text": [
            "              precision    recall  f1-score   support\n",
            "\n",
            "      stable     0.9215    0.8736    0.8969       712\n",
            "    unstable     0.9321    0.9589    0.9453      1288\n",
            "\n",
            "    accuracy                         0.9285      2000\n",
            "   macro avg     0.9268    0.9162    0.9211      2000\n",
            "weighted avg     0.9283    0.9285    0.9281      2000\n",
            "\n",
            "\n",
            "\n",
            "Accuracy score 0.9285\n"
          ]
        }
      ]
    },
    {
      "cell_type": "code",
      "metadata": {
        "colab": {
          "base_uri": "https://localhost:8080/"
        },
        "id": "TiwMVeuqjQOV",
        "outputId": "93a0f5fa-b0ea-4e3e-8038-5a7228c1fbe5"
      },
      "source": [
        "Tree_CLass.fit(transformed_X_train,y_train)\n",
        "Tree_predict = Tree_CLass.predict(transformed_X_test)\n",
        "\n",
        "print(classification_report(y_test,Tree_predict))"
      ],
      "execution_count": 57,
      "outputs": [
        {
          "output_type": "stream",
          "name": "stdout",
          "text": [
            "              precision    recall  f1-score   support\n",
            "\n",
            "      stable       0.94      0.85      0.89       712\n",
            "    unstable       0.92      0.97      0.95      1288\n",
            "\n",
            "    accuracy                           0.93      2000\n",
            "   macro avg       0.93      0.91      0.92      2000\n",
            "weighted avg       0.93      0.93      0.93      2000\n",
            "\n"
          ]
        }
      ]
    },
    {
      "cell_type": "markdown",
      "metadata": {
        "id": "wn3rQvpdi9Nz"
      },
      "source": [
        "**Question 19**\n",
        "\n",
        "***Answer: All of Above***"
      ]
    },
    {
      "cell_type": "markdown",
      "metadata": {
        "id": "y6VxUHc9jdfk"
      },
      "source": [
        "**Question 20**\n"
      ]
    },
    {
      "cell_type": "code",
      "metadata": {
        "colab": {
          "base_uri": "https://localhost:8080/"
        },
        "id": "TEwX_gd0jguG",
        "outputId": "e3124997-4ba0-447b-f9c4-b6a0d74f8ee5"
      },
      "source": [
        "feature_importance = search.best_estimator_.feature_importances_\n",
        "print ('Feature Importance :\\n', feature_importance)  # using this code we are able to generate the feature importance  using the \"best_estimator_\""
      ],
      "execution_count": 58,
      "outputs": [
        {
          "output_type": "stream",
          "name": "stdout",
          "text": [
            "Feature Importance :\n",
            " [0.13723975 0.1405075  0.13468029 0.13541676 0.00368342 0.00533686\n",
            " 0.00542927 0.00496249 0.10256244 0.10757765 0.11306268 0.10954089]\n"
          ]
        }
      ]
    },
    {
      "cell_type": "code",
      "metadata": {
        "colab": {
          "base_uri": "https://localhost:8080/"
        },
        "id": "gtsT6-_jjkXy",
        "outputId": "334e17e7-0b77-4a34-8464-f60bd883c6a8"
      },
      "source": [
        "sorted (zip(feature_importance,X), reverse = True)  # the zip function helps us to map the values to their corresponding column names (Features)"
      ],
      "execution_count": 59,
      "outputs": [
        {
          "output_type": "execute_result",
          "data": {
            "text/plain": [
              "[(0.14050750384993677, 'tau2'),\n",
              " (0.13723974766109256, 'tau1'),\n",
              " (0.1354167630909727, 'tau4'),\n",
              " (0.13468028520386593, 'tau3'),\n",
              " (0.11306267999167334, 'g3'),\n",
              " (0.10954089174337298, 'g4'),\n",
              " (0.10757764577478764, 'g2'),\n",
              " (0.10256244080927947, 'g1'),\n",
              " (0.005429268421191957, 'p3'),\n",
              " (0.005336864710946151, 'p2'),\n",
              " (0.004962486591192238, 'p4'),\n",
              " (0.003683422151688322, 'p1')]"
            ]
          },
          "metadata": {},
          "execution_count": 59
        }
      ]
    }
  ]
}